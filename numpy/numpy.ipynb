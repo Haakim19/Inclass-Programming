{
 "cells": [
  {
   "cell_type": "code",
   "execution_count": 23,
   "metadata": {},
   "outputs": [
    {
     "name": "stdout",
     "output_type": "stream",
     "text": [
      "[[1 2 3]\n",
      " [4 5 6]\n",
      " [7 8 9]]\n"
     ]
    }
   ],
   "source": [
    "import numpy as np\n",
    "a=np.matrix('1 2 3 ;4 5 6;7 8 9')\n",
    "print(a)"
   ]
  },
  {
   "cell_type": "code",
   "execution_count": 24,
   "metadata": {},
   "outputs": [
    {
     "name": "stdout",
     "output_type": "stream",
     "text": [
      "[[1 2 3]\n",
      " [4 5 6]\n",
      " [7 8 9]]\n"
     ]
    }
   ],
   "source": [
    "import numpy as np\n",
    "a=np.array([[1,2,3],[4,5,6],[7,8,9]])\n",
    "print(a)"
   ]
  },
  {
   "cell_type": "code",
   "execution_count": 25,
   "metadata": {},
   "outputs": [
    {
     "name": "stdout",
     "output_type": "stream",
     "text": [
      "(3, 3)\n"
     ]
    }
   ],
   "source": [
    "print(a.shape)"
   ]
  },
  {
   "cell_type": "code",
   "execution_count": 26,
   "metadata": {},
   "outputs": [
    {
     "name": "stdout",
     "output_type": "stream",
     "text": [
      "[[ 4  2  5]\n",
      " [11 10 15]\n",
      " [ 8 12 14]]\n"
     ]
    }
   ],
   "source": [
    "import numpy as np\n",
    "b=np.array([[3,0,2],[7,5,9],[1,4,5]])\n",
    "print(a+b)\n"
   ]
  },
  {
   "cell_type": "code",
   "execution_count": 27,
   "metadata": {},
   "outputs": [
    {
     "name": "stdout",
     "output_type": "stream",
     "text": [
      "[[ 2  4  6]\n",
      " [ 8 10 12]\n",
      " [14 16 18]]\n"
     ]
    }
   ],
   "source": [
    "print(a*2)\n"
   ]
  },
  {
   "cell_type": "code",
   "execution_count": 28,
   "metadata": {},
   "outputs": [
    {
     "name": "stdout",
     "output_type": "stream",
     "text": [
      "[[-2  2  1]\n",
      " [-3  0 -3]\n",
      " [ 6  4  4]]\n"
     ]
    }
   ],
   "source": [
    "print(a-b)\n"
   ]
  },
  {
   "cell_type": "code",
   "execution_count": 29,
   "metadata": {},
   "outputs": [
    {
     "name": "stdout",
     "output_type": "stream",
     "text": [
      "[[ 3  0  6]\n",
      " [28 25 54]\n",
      " [ 7 32 45]]\n"
     ]
    }
   ],
   "source": [
    "print(a*b)\n"
   ]
  },
  {
   "cell_type": "code",
   "execution_count": 30,
   "metadata": {},
   "outputs": [
    {
     "name": "stdout",
     "output_type": "stream",
     "text": [
      "[[1 4 7]\n",
      " [2 5 8]\n",
      " [3 6 9]]\n"
     ]
    }
   ],
   "source": [
    "c=np.matrix.transpose(a)\n",
    "print(c)"
   ]
  },
  {
   "cell_type": "code",
   "execution_count": 31,
   "metadata": {},
   "outputs": [],
   "source": [
    "import numpy as np\n",
    "import sympy as su\n",
    "from sympy import*\n"
   ]
  },
  {
   "cell_type": "code",
   "execution_count": 32,
   "metadata": {},
   "outputs": [
    {
     "name": "stdout",
     "output_type": "stream",
     "text": [
      "Defaulting to user installation because normal site-packages is not writeable\n",
      "\u001b[31mERROR: Could not find a version that satisfies the requirement itertools (from versions: none)\u001b[0m\u001b[31m\n",
      "\u001b[0m\u001b[31mERROR: No matching distribution found for itertools\u001b[0m\u001b[31m\n",
      "\u001b[0mNote: you may need to restart the kernel to use updated packages.\n"
     ]
    }
   ],
   "source": [
    "pip install itertools"
   ]
  },
  {
   "cell_type": "code",
   "execution_count": 44,
   "metadata": {},
   "outputs": [
    {
     "name": "stdout",
     "output_type": "stream",
     "text": [
      "(1, 7, 3, 4, 3)\n",
      "(1, 7, 3, 3, 4)\n",
      "(1, 7, 4, 3, 3)\n",
      "(1, 7, 4, 3, 3)\n",
      "(1, 7, 3, 3, 4)\n",
      "(1, 7, 3, 4, 3)\n",
      "(1, 3, 7, 4, 3)\n",
      "(1, 3, 7, 3, 4)\n",
      "(1, 3, 4, 7, 3)\n",
      "(1, 3, 4, 3, 7)\n",
      "(1, 3, 3, 7, 4)\n",
      "(1, 3, 3, 4, 7)\n",
      "(1, 4, 7, 3, 3)\n",
      "(1, 4, 7, 3, 3)\n",
      "(1, 4, 3, 7, 3)\n",
      "(1, 4, 3, 3, 7)\n",
      "(1, 4, 3, 7, 3)\n",
      "(1, 4, 3, 3, 7)\n",
      "(1, 3, 7, 3, 4)\n",
      "(1, 3, 7, 4, 3)\n",
      "(1, 3, 3, 7, 4)\n",
      "(1, 3, 3, 4, 7)\n",
      "(1, 3, 4, 7, 3)\n",
      "(1, 3, 4, 3, 7)\n",
      "(7, 1, 3, 4, 3)\n",
      "(7, 1, 3, 3, 4)\n",
      "(7, 1, 4, 3, 3)\n",
      "(7, 1, 4, 3, 3)\n",
      "(7, 1, 3, 3, 4)\n",
      "(7, 1, 3, 4, 3)\n",
      "(7, 3, 1, 4, 3)\n",
      "(7, 3, 1, 3, 4)\n",
      "(7, 3, 4, 1, 3)\n",
      "(7, 3, 4, 3, 1)\n",
      "(7, 3, 3, 1, 4)\n",
      "(7, 3, 3, 4, 1)\n",
      "(7, 4, 1, 3, 3)\n",
      "(7, 4, 1, 3, 3)\n",
      "(7, 4, 3, 1, 3)\n",
      "(7, 4, 3, 3, 1)\n",
      "(7, 4, 3, 1, 3)\n",
      "(7, 4, 3, 3, 1)\n",
      "(7, 3, 1, 3, 4)\n",
      "(7, 3, 1, 4, 3)\n",
      "(7, 3, 3, 1, 4)\n",
      "(7, 3, 3, 4, 1)\n",
      "(7, 3, 4, 1, 3)\n",
      "(7, 3, 4, 3, 1)\n",
      "(3, 1, 7, 4, 3)\n",
      "(3, 1, 7, 3, 4)\n",
      "(3, 1, 4, 7, 3)\n",
      "(3, 1, 4, 3, 7)\n",
      "(3, 1, 3, 7, 4)\n",
      "(3, 1, 3, 4, 7)\n",
      "(3, 7, 1, 4, 3)\n",
      "(3, 7, 1, 3, 4)\n",
      "(3, 7, 4, 1, 3)\n",
      "(3, 7, 4, 3, 1)\n",
      "(3, 7, 3, 1, 4)\n",
      "(3, 7, 3, 4, 1)\n",
      "(3, 4, 1, 7, 3)\n",
      "(3, 4, 1, 3, 7)\n",
      "(3, 4, 7, 1, 3)\n",
      "(3, 4, 7, 3, 1)\n",
      "(3, 4, 3, 1, 7)\n",
      "(3, 4, 3, 7, 1)\n",
      "(3, 3, 1, 7, 4)\n",
      "(3, 3, 1, 4, 7)\n",
      "(3, 3, 7, 1, 4)\n",
      "(3, 3, 7, 4, 1)\n",
      "(3, 3, 4, 1, 7)\n",
      "(3, 3, 4, 7, 1)\n",
      "(4, 1, 7, 3, 3)\n",
      "(4, 1, 7, 3, 3)\n",
      "(4, 1, 3, 7, 3)\n",
      "(4, 1, 3, 3, 7)\n",
      "(4, 1, 3, 7, 3)\n",
      "(4, 1, 3, 3, 7)\n",
      "(4, 7, 1, 3, 3)\n",
      "(4, 7, 1, 3, 3)\n",
      "(4, 7, 3, 1, 3)\n",
      "(4, 7, 3, 3, 1)\n",
      "(4, 7, 3, 1, 3)\n",
      "(4, 7, 3, 3, 1)\n",
      "(4, 3, 1, 7, 3)\n",
      "(4, 3, 1, 3, 7)\n",
      "(4, 3, 7, 1, 3)\n",
      "(4, 3, 7, 3, 1)\n",
      "(4, 3, 3, 1, 7)\n",
      "(4, 3, 3, 7, 1)\n",
      "(4, 3, 1, 7, 3)\n",
      "(4, 3, 1, 3, 7)\n",
      "(4, 3, 7, 1, 3)\n",
      "(4, 3, 7, 3, 1)\n",
      "(4, 3, 3, 1, 7)\n",
      "(4, 3, 3, 7, 1)\n",
      "(3, 1, 7, 3, 4)\n",
      "(3, 1, 7, 4, 3)\n",
      "(3, 1, 3, 7, 4)\n",
      "(3, 1, 3, 4, 7)\n",
      "(3, 1, 4, 7, 3)\n",
      "(3, 1, 4, 3, 7)\n",
      "(3, 7, 1, 3, 4)\n",
      "(3, 7, 1, 4, 3)\n",
      "(3, 7, 3, 1, 4)\n",
      "(3, 7, 3, 4, 1)\n",
      "(3, 7, 4, 1, 3)\n",
      "(3, 7, 4, 3, 1)\n",
      "(3, 3, 1, 7, 4)\n",
      "(3, 3, 1, 4, 7)\n",
      "(3, 3, 7, 1, 4)\n",
      "(3, 3, 7, 4, 1)\n",
      "(3, 3, 4, 1, 7)\n",
      "(3, 3, 4, 7, 1)\n",
      "(3, 4, 1, 7, 3)\n",
      "(3, 4, 1, 3, 7)\n",
      "(3, 4, 7, 1, 3)\n",
      "(3, 4, 7, 3, 1)\n",
      "(3, 4, 3, 1, 7)\n",
      "(3, 4, 3, 7, 1)\n",
      "120\n"
     ]
    }
   ],
   "source": [
    "from itertools import*\n",
    "b=permutations([1,7,3,4,3])\n",
    "a=0\n",
    "for i in b:\n",
    "    print(i)\n",
    "    a+=1\n",
    "print(a)\n",
    "\n"
   ]
  },
  {
   "cell_type": "code",
   "execution_count": 51,
   "metadata": {},
   "outputs": [
    {
     "data": {
      "text/latex": [
       "$\\displaystyle \\left[\\begin{matrix}1 & 2 & 3\\\\4 & 5 & 6\\\\1 & 2 & 3\\end{matrix}\\right]$"
      ],
      "text/plain": [
       "Matrix([\n",
       "[1, 2, 3],\n",
       "[4, 5, 6],\n",
       "[1, 2, 3]])"
      ]
     },
     "execution_count": 51,
     "metadata": {},
     "output_type": "execute_result"
    }
   ],
   "source": [
    "import numpy as np\n",
    "import sympy as sp\n",
    "from itertools import*\n",
    "a=Matrix([[1,2,3],[4,5,6],[1,2,3]])\n",
    "a\n",
    "\n"
   ]
  },
  {
   "cell_type": "code",
   "execution_count": 47,
   "metadata": {},
   "outputs": [
    {
     "name": "stdout",
     "output_type": "stream",
     "text": [
      "(1, 2, 3)\n",
      "(1, 2, 4)\n",
      "(1, 2, 5)\n",
      "(1, 3, 2)\n",
      "(1, 3, 4)\n",
      "(1, 3, 5)\n",
      "(1, 4, 2)\n",
      "(1, 4, 3)\n",
      "(1, 4, 5)\n",
      "(1, 5, 2)\n",
      "(1, 5, 3)\n",
      "(1, 5, 4)\n",
      "(2, 1, 3)\n",
      "(2, 1, 4)\n",
      "(2, 1, 5)\n",
      "(2, 3, 1)\n",
      "(2, 3, 4)\n",
      "(2, 3, 5)\n",
      "(2, 4, 1)\n",
      "(2, 4, 3)\n",
      "(2, 4, 5)\n",
      "(2, 5, 1)\n",
      "(2, 5, 3)\n",
      "(2, 5, 4)\n",
      "(3, 1, 2)\n",
      "(3, 1, 4)\n",
      "(3, 1, 5)\n",
      "(3, 2, 1)\n",
      "(3, 2, 4)\n",
      "(3, 2, 5)\n",
      "(3, 4, 1)\n",
      "(3, 4, 2)\n",
      "(3, 4, 5)\n",
      "(3, 5, 1)\n",
      "(3, 5, 2)\n",
      "(3, 5, 4)\n",
      "(4, 1, 2)\n",
      "(4, 1, 3)\n",
      "(4, 1, 5)\n",
      "(4, 2, 1)\n",
      "(4, 2, 3)\n",
      "(4, 2, 5)\n",
      "(4, 3, 1)\n",
      "(4, 3, 2)\n",
      "(4, 3, 5)\n",
      "(4, 5, 1)\n",
      "(4, 5, 2)\n",
      "(4, 5, 3)\n",
      "(5, 1, 2)\n",
      "(5, 1, 3)\n",
      "(5, 1, 4)\n",
      "(5, 2, 1)\n",
      "(5, 2, 3)\n",
      "(5, 2, 4)\n",
      "(5, 3, 1)\n",
      "(5, 3, 2)\n",
      "(5, 3, 4)\n",
      "(5, 4, 1)\n",
      "(5, 4, 2)\n",
      "(5, 4, 3)\n",
      "60\n"
     ]
    }
   ],
   "source": [
    "\n",
    "m=permutations([1,2,3,4,5], 3)\n",
    "count=0\n",
    "for i in m:\n",
    "    print(i)\n",
    "    count+=1\n",
    "print(count)"
   ]
  },
  {
   "cell_type": "code",
   "execution_count": 61,
   "metadata": {},
   "outputs": [
    {
     "name": "stdout",
     "output_type": "stream",
     "text": [
      "(1, 2, 3)\n",
      "(1, 2, 4)\n",
      "(1, 2, 5)\n",
      "(1, 3, 4)\n",
      "(1, 3, 5)\n",
      "(1, 4, 5)\n",
      "(2, 3, 4)\n",
      "(2, 3, 5)\n",
      "(2, 4, 5)\n",
      "(3, 4, 5)\n",
      "10\n"
     ]
    }
   ],
   "source": [
    "import numpy as np\n",
    "\n",
    "from itertools import*\n",
    "a=combinations([1,2,3,4,5],3)\n",
    "count=0\n",
    "for i in a:\n",
    "    print(i)\n",
    "    count+=1\n",
    "print(count)"
   ]
  }
 ],
 "metadata": {
  "kernelspec": {
   "display_name": "Python 3",
   "language": "python",
   "name": "python3"
  },
  "language_info": {
   "codemirror_mode": {
    "name": "ipython",
    "version": 3
   },
   "file_extension": ".py",
   "mimetype": "text/x-python",
   "name": "python",
   "nbconvert_exporter": "python",
   "pygments_lexer": "ipython3",
   "version": "3.10.12"
  }
 },
 "nbformat": 4,
 "nbformat_minor": 2
}
