{
 "cells": [
  {
   "cell_type": "code",
   "execution_count": 6,
   "id": "10ec4b87",
   "metadata": {},
   "outputs": [],
   "source": [
    "import numpy as np"
   ]
  },
  {
   "cell_type": "code",
   "execution_count": 1,
   "id": "b9ca9e63",
   "metadata": {},
   "outputs": [
    {
     "name": "stdout",
     "output_type": "stream",
     "text": [
      "Defaulting to user installation because normal site-packages is not writeable\n",
      "Collecting transformations\n",
      "  Downloading transformations-2024.6.1-cp310-cp310-manylinux_2_17_x86_64.manylinux2014_x86_64.whl (138 kB)\n",
      "\u001b[2K     \u001b[38;2;114;156;31m━━━━━━━━━━━━━━━━━━━━━━━━━━━━━━━━━━━━━\u001b[0m \u001b[32m138.6/138.6 KB\u001b[0m \u001b[31m143.3 kB/s\u001b[0m eta \u001b[36m0:00:00\u001b[0m1m138.0 kB/s\u001b[0m eta \u001b[36m0:00:01\u001b[0m\n",
      "\u001b[?25hRequirement already satisfied: numpy in /home/zoro/.local/lib/python3.10/site-packages (from transformations) (1.26.4)\n",
      "Installing collected packages: transformations\n",
      "Successfully installed transformations-2024.6.1\n",
      "Note: you may need to restart the kernel to use updated packages.\n"
     ]
    }
   ],
   "source": [
    "pip install transformations"
   ]
  },
  {
   "cell_type": "code",
   "execution_count": 7,
   "id": "05a6be38",
   "metadata": {},
   "outputs": [
    {
     "name": "stdout",
     "output_type": "stream",
     "text": [
      "[0.26726124 0.53452248 0.80178373]\n"
     ]
    }
   ],
   "source": [
    "import transformations as tr\n",
    "#creating a numpy array\n",
    "arr = np.array([1,2,3])\n",
    "#normalizing the array to unit vector\n",
    "#print(transformations.unit_vector(arr))\n",
    "print(tr.unit_vector(arr))"
   ]
  }
 ],
 "metadata": {
  "kernelspec": {
   "display_name": "Python 3 (ipykernel)",
   "language": "python",
   "name": "python3"
  },
  "language_info": {
   "codemirror_mode": {
    "name": "ipython",
    "version": 3
   },
   "file_extension": ".py",
   "mimetype": "text/x-python",
   "name": "python",
   "nbconvert_exporter": "python",
   "pygments_lexer": "ipython3",
   "version": "3.10.12"
  }
 },
 "nbformat": 4,
 "nbformat_minor": 5
}
