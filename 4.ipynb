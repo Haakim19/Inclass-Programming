{
 "cells": [
  {
   "cell_type": "code",
   "execution_count": 3,
   "id": "10ec4b87",
   "metadata": {},
   "outputs": [],
   "source": [
    "import numpy as np"
   ]
  },
  {
   "cell_type": "code",
   "execution_count": 1,
   "id": "b9ca9e63",
   "metadata": {},
   "outputs": [
    {
     "name": "stdout",
     "output_type": "stream",
     "text": [
      "Defaulting to user installation because normal site-packages is not writeable\n",
      "Requirement already satisfied: transformations in /home/zoro/.local/lib/python3.10/site-packages (2024.6.1)\n",
      "Requirement already satisfied: numpy in /home/zoro/.local/lib/python3.10/site-packages (from transformations) (1.26.4)\n",
      "Note: you may need to restart the kernel to use updated packages.\n"
     ]
    }
   ],
   "source": [
    "pip install transformations"
   ]
  },
  {
   "cell_type": "code",
   "execution_count": 4,
   "id": "05a6be38",
   "metadata": {},
   "outputs": [
    {
     "name": "stdout",
     "output_type": "stream",
     "text": [
      "[0.26726124 0.53452248 0.80178373]\n"
     ]
    }
   ],
   "source": [
    "import transformations as tr\n",
    "#creating a numpy array\n",
    "arr = np.array([1,2,3])\n",
    "#normalizing the array to unit vector\n",
    "#print(transformations.unit_vector(arr))\n",
    "print(tr.unit_vector(arr))"
   ]
  }
 ],
 "metadata": {
  "kernelspec": {
   "display_name": "Python 3 (ipykernel)",
   "language": "python",
   "name": "python3"
  },
  "language_info": {
   "codemirror_mode": {
    "name": "ipython",
    "version": 3
   },
   "file_extension": ".py",
   "mimetype": "text/x-python",
   "name": "python",
   "nbconvert_exporter": "python",
   "pygments_lexer": "ipython3",
   "version": "3.10.12"
  }
 },
 "nbformat": 4,
 "nbformat_minor": 5
}
