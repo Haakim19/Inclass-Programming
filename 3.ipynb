{
 "cells": [
  {
   "cell_type": "markdown",
   "id": "3c4eee80",
   "metadata": {},
   "source": [
    "# Vectors"
   ]
  },
  {
   "cell_type": "code",
   "execution_count": 4,
   "id": "b10142f4",
   "metadata": {},
   "outputs": [
    {
     "name": "stdout",
     "output_type": "stream",
     "text": [
      "vector created from a list:\n",
      "[10 20 30 40 50]\n"
     ]
    }
   ],
   "source": [
    "import numpy as np\n",
    "\n",
    "lst = [10,20,30,40,50]\n",
    "\n",
    "vctr = np.array(lst)\n",
    "\n",
    "print(\"vector created from a list:\")\n",
    "print(vctr)"
   ]
  },
  {
   "cell_type": "code",
   "execution_count": 7,
   "id": "a9f393e2",
   "metadata": {},
   "outputs": [
    {
     "name": "stdout",
     "output_type": "stream",
     "text": [
      "[10 20 30 40 50]\n",
      "[1 2 3 4 5]\n",
      "Addition of two vector:  [11 22 33 44 55]\n"
     ]
    }
   ],
   "source": [
    "import numpy as np\n",
    "\n",
    "lst1 = [10,20,30,40,50]\n",
    "lst2 = [1,2,3,4,5]\n",
    "\n",
    "\n",
    "vctr1 = np.array(lst1)\n",
    "\n",
    "vctr2 = np.array(lst2)\n",
    "\n",
    "print(vctr1)\n",
    "print(vctr2)\n",
    "vctr_add = vctr1+vctr2\n",
    "print(\"Addition of two vector: \",vctr_add)"
   ]
  },
  {
   "cell_type": "code",
   "execution_count": 9,
   "id": "761bf167",
   "metadata": {},
   "outputs": [
    {
     "data": {
      "text/plain": [
       "21.77154105707724"
      ]
     },
     "execution_count": 9,
     "metadata": {},
     "output_type": "execute_result"
    }
   ],
   "source": [
    "import numpy as np\n",
    "\n",
    "#define vector \n",
    "x = np.array ([3, 6, 6, 4, 8, 12, 13])\n",
    "\n",
    "#calculate magnitude of vector\n",
    "np.linalg.norm(x)"
   ]
  },
  {
   "cell_type": "code",
   "execution_count": 10,
   "id": "36a82e0e",
   "metadata": {},
   "outputs": [
    {
     "data": {
      "text/plain": [
       "21.77154105707724"
      ]
     },
     "execution_count": 10,
     "metadata": {},
     "output_type": "execute_result"
    }
   ],
   "source": [
    "#define vector \n",
    "x = np.array([3, 6, 6, 4, 8, 12, 13])\n",
    "#calculate magnitude of vector\n",
    "np.sqrt(x.dot(x))\n",
    "np.sqrt(np.dot(x,x))"
   ]
  }
 ],
 "metadata": {
  "kernelspec": {
   "display_name": "Python 3 (ipykernel)",
   "language": "python",
   "name": "python3"
  },
  "language_info": {
   "codemirror_mode": {
    "name": "ipython",
    "version": 3
   },
   "file_extension": ".py",
   "mimetype": "text/x-python",
   "name": "python",
   "nbconvert_exporter": "python",
   "pygments_lexer": "ipython3",
   "version": "3.11.3"
  }
 },
 "nbformat": 4,
 "nbformat_minor": 5
}
