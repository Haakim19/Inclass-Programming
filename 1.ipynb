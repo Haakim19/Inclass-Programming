{
 "cells": [
  {
   "cell_type": "code",
   "execution_count": 3,
   "id": "cb238987",
   "metadata": {},
   "outputs": [
    {
     "name": "stdout",
     "output_type": "stream",
     "text": [
      "[[1 2 3]\n",
      " [4 5 6]]\n",
      "[[1 2 3]\n",
      " [4 5 6]]\n"
     ]
    }
   ],
   "source": [
    "import numpy as np\n",
    "\n",
    "a= np.matrix('1 2 3;4 5 6')\n",
    "b=np.array([[1,2,3],[4,5,6]])\n",
    "print(b)\n",
    "print(a)"
   ]
  },
  {
   "cell_type": "code",
   "execution_count": 4,
   "id": "184595d8",
   "metadata": {},
   "outputs": [
    {
     "name": "stdout",
     "output_type": "stream",
     "text": [
      "(2, 3)\n"
     ]
    }
   ],
   "source": [
    "print(a.shape)"
   ]
  },
  {
   "cell_type": "code",
   "execution_count": 6,
   "id": "f00d8fc5",
   "metadata": {},
   "outputs": [
    {
     "name": "stdout",
     "output_type": "stream",
     "text": [
      "[[ 2  5]\n",
      " [ 3 75]]\n"
     ]
    }
   ],
   "source": [
    "a=np.matrix('1 1;2 43')\n",
    "b=np.matrix('1 4;1 32')\n",
    "print(a+b)"
   ]
  },
  {
   "cell_type": "markdown",
   "id": "0a050eca",
   "metadata": {},
   "source": [
    "Scalar multipication"
   ]
  },
  {
   "cell_type": "code",
   "execution_count": 7,
   "id": "cef1c8f7",
   "metadata": {},
   "outputs": [
    {
     "name": "stdout",
     "output_type": "stream",
     "text": [
      "[[ 8  4]\n",
      " [ 8  8]\n",
      " [12 12]]\n"
     ]
    }
   ],
   "source": [
    "a=np.matrix('2 1;2 2;3 3')\n",
    "a\n",
    "print(4*a)\n"
   ]
  },
  {
   "cell_type": "markdown",
   "id": "5dcf6650",
   "metadata": {},
   "source": [
    "Matrix multipication"
   ]
  },
  {
   "cell_type": "code",
   "execution_count": 9,
   "id": "d609f536",
   "metadata": {},
   "outputs": [
    {
     "name": "stdout",
     "output_type": "stream",
     "text": [
      "[[ 12  97  35]\n",
      " [ 30 247  86]]\n"
     ]
    }
   ],
   "source": [
    "a=np.matrix('1 2 3;4 5 6')\n",
    "b=np.matrix('2 4 5;2 45 6;2 1 6')\n",
    "c=a*b\n",
    "print(c)"
   ]
  },
  {
   "cell_type": "markdown",
   "id": "e0d8b871",
   "metadata": {},
   "source": [
    "Transpose of matrix"
   ]
  },
  {
   "cell_type": "code",
   "execution_count": 10,
   "id": "6e318d63",
   "metadata": {},
   "outputs": [
    {
     "name": "stdout",
     "output_type": "stream",
     "text": [
      "[[ 2  2  2]\n",
      " [ 4 43  3]\n",
      " [ 6 56 54]]\n"
     ]
    }
   ],
   "source": [
    "a=np.matrix('2 4 6;2 43 56;2 3 54')\n",
    "b=np.matrix.transpose(a)\n",
    "print(b)"
   ]
  }
 ],
 "metadata": {
  "kernelspec": {
   "display_name": "Python 3 (ipykernel)",
   "language": "python",
   "name": "python3"
  },
  "language_info": {
   "codemirror_mode": {
    "name": "ipython",
    "version": 3
   },
   "file_extension": ".py",
   "mimetype": "text/x-python",
   "name": "python",
   "nbconvert_exporter": "python",
   "pygments_lexer": "ipython3",
   "version": "3.11.3"
  }
 },
 "nbformat": 4,
 "nbformat_minor": 5
}
